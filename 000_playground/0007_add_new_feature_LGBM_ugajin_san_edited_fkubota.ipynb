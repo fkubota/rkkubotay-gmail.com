{
 "cells": [
  {
   "cell_type": "markdown",
   "metadata": {},
   "source": [
    "# Overview\n",
    "- モデルをlightGBMにした\n",
    "- 009からさらにfeatureを削ってみる"
   ]
  },
  {
   "cell_type": "markdown",
   "metadata": {},
   "source": [
    "# Const"
   ]
  },
  {
   "cell_type": "code",
   "execution_count": null,
   "metadata": {},
   "outputs": [],
   "source": [
    "path_X_tr = './../../Dataset-CareerCon-2019-Help-Navigate-Robots/Tutorial/data/X_train.csv'\n",
    "path_y_tr = './../../Dataset-CareerCon-2019-Help-Navigate-Robots/Tutorial/data/y_train.csv'\n",
    "path_X_te = './../../Dataset-CareerCon-2019-Help-Navigate-Robots/Tutorial/data/X_test.csv'"
   ]
  },
  {
   "cell_type": "markdown",
   "metadata": {},
   "source": [
    "# Import everything I need :)"
   ]
  },
  {
   "cell_type": "code",
   "execution_count": 2,
   "metadata": {},
   "outputs": [
    {
     "name": "stderr",
     "output_type": "stream",
     "text": [
      "/usr/local/lib/python3.6/dist-packages/matplotlib/__init__.py:886: MatplotlibDeprecationWarning: \n",
      "examples.directory is deprecated; in the future, examples will be found relative to the 'datapath' directory.\n",
      "  \"found relative to the 'datapath' directory.\".format(key))\n"
     ]
    }
   ],
   "source": [
    "import sys\n",
    "import warnings\n",
    "import numpy as np\n",
    "import matplotlib.pyplot as plt\n",
    "import seaborn as sns\n",
    "import pandas as pd\n",
    "from sklearn.preprocessing import LabelEncoder\n",
    "from sklearn.model_selection import train_test_split\n",
    "from sklearn.ensemble import RandomForestClassifier\n",
    "from sklearn.metrics import accuracy_score, confusion_matrix\n",
    "import itertools\n",
    "from fastprogress import progress_bar\n",
    "sys.path.insert(0, './../../Dataset-CareerCon-2019-Help-Navigate-Robots/Tutorial/secret-data')\n",
    "from tell_me_score import tell_me_score\n",
    "from sklearn.preprocessing import StandardScaler\n",
    "from sklearn.model_selection import cross_val_score\n",
    "import librosa\n",
    "import copy\n",
    "import lightgbm as lgb"
   ]
  },
  {
   "cell_type": "markdown",
   "metadata": {},
   "source": [
    "# myfnuc"
   ]
  },
  {
   "cell_type": "code",
   "execution_count": 3,
   "metadata": {
    "scrolled": true
   },
   "outputs": [],
   "source": [
    "class permutation_importance():\n",
    "    def __init__(self, model, metric):\n",
    "        self.is_computed = False\n",
    "        self.n_feat = 0\n",
    "        self.base_score = 0\n",
    "        self.model = model\n",
    "        self.metric = metric\n",
    "        self.df_result = []\n",
    "    \n",
    "    def compute(self, X_valid, y_valid):\n",
    "        self.n_feat = len(X_valid.columns)\n",
    "        if self.metric == 'auc':\n",
    "            y_valid_score = self.model.predict_proba(X_valid)[:, 1]\n",
    "            fpr, tpr, thresholds = roc_curve(y_valid, y_valid_score)\n",
    "            self.base_score = auc(fpr, tpr)\n",
    "        else:\n",
    "            self.base_score = self.metric(y_valid, self.model.predict(X_valid))\n",
    "        self.df_result = pd.DataFrame({'feat': X_valid.columns, \n",
    "                                       'score': np.zeros(self.n_feat),\n",
    "                                       'score_diff': np.zeros(self.n_feat)})\n",
    "        \n",
    "        # predict\n",
    "        for i, col in enumerate(X_valid.columns):\n",
    "            df_perm = X_valid.copy()\n",
    "            np.random.seed(1)\n",
    "            df_perm[col] = np.random.permutation(df_perm[col])\n",
    "            y_valid_pred = self.model.predict(df_perm)\n",
    "            if self.metric == 'auc':\n",
    "                y_valid_score = self.model.predict_proba(df_perm)[:, 1]\n",
    "                fpr, tpr, thresholds = roc_curve(y_valid, y_valid_score)\n",
    "                score = auc(fpr, tpr)\n",
    "            else:\n",
    "                score = self.metric(y_valid, y_valid_pred)\n",
    "            self.df_result['score'][self.df_result['feat']==col] = score\n",
    "            self.df_result['score_diff'][self.df_result['feat']==col] = self.base_score - score\n",
    "        self.is_computed = True\n",
    "    \n",
    "    def get_negative_feature(self):\n",
    "        assert self.is_computed!=False, 'compute メソッドが実行されていません'\n",
    "        idx = self.df_result['score_diff'] < 0\n",
    "        return self.df_result.loc[idx, 'feat'].values.tolist()\n",
    "        \n",
    "    def get_positive_feature(self):\n",
    "        assert self.is_computed!=False, 'compute メソッドが実行されていません'\n",
    "        idx = self.df_result['score_diff'] > 0\n",
    "        return self.df_result.loc[idx, 'feat'].values.tolist()\n",
    "    \n",
    "    def show_permutation_importance(self, score_type='loss'):\n",
    "        '''score_type = 'loss' or 'accuracy'  '''\n",
    "        assert self.is_computed!=False, 'compute メソッドが実行されていません'\n",
    "        if score_type=='loss':\n",
    "            ascending = True\n",
    "        elif score_type=='accuracy':\n",
    "            ascending = False\n",
    "        else:\n",
    "            ascending = ''\n",
    "        \n",
    "        plt.figure(figsize=(15, int(0.25*self.n_feat)))\n",
    "        sns.barplot(x=\"score_diff\", y=\"feat\", data=self.df_result.sort_values(by=\"score_diff\", ascending=ascending))\n",
    "        plt.title('base_score - permutation_score')"
   ]
  },
  {
   "cell_type": "code",
   "execution_count": 4,
   "metadata": {
    "scrolled": true
   },
   "outputs": [],
   "source": [
    "def plot_confusion_matrix(truth, pred, classes, normalize=False, title=''):\n",
    "    cm = confusion_matrix(truth, pred)\n",
    "    if normalize:\n",
    "        cm = cm.astype('float') / cm.sum(axis=1)[:, np.newaxis]\n",
    "    \n",
    "    plt.figure(figsize=(10, 10))\n",
    "    plt.imshow(cm, interpolation='nearest', cmap=plt.cm.Blues)\n",
    "    plt.title('Confusion matrix', size=15)\n",
    "    plt.colorbar(fraction=0.046, pad=0.04)\n",
    "    tick_marks = np.arange(len(classes))\n",
    "    plt.xticks(tick_marks, classes, rotation=45)\n",
    "    plt.yticks(tick_marks, classes)\n",
    "\n",
    "    fmt = '.2f' if normalize else 'd'\n",
    "    thresh = cm.max() / 2.\n",
    "    for i, j in itertools.product(range(cm.shape[0]), range(cm.shape[1])):\n",
    "        plt.text(j, i, format(cm[i, j], fmt),\n",
    "                 horizontalalignment=\"center\",\n",
    "                 color=\"white\" if cm[i, j] > thresh else \"black\")\n",
    "\n",
    "    plt.ylabel('True label')\n",
    "    plt.xlabel('Predicted label')\n",
    "    plt.grid(False)\n",
    "    plt.tight_layout()"
   ]
  },
  {
   "cell_type": "markdown",
   "metadata": {},
   "source": [
    "# Preparation"
   ]
  },
  {
   "cell_type": "markdown",
   "metadata": {},
   "source": [
    "set"
   ]
  },
  {
   "cell_type": "code",
   "execution_count": 5,
   "metadata": {
    "scrolled": true
   },
   "outputs": [],
   "source": [
    "sns.set()\n",
    "warnings.filterwarnings('ignore')"
   ]
  },
  {
   "cell_type": "markdown",
   "metadata": {},
   "source": [
    "<br>\n",
    "\n",
    "load data"
   ]
  },
  {
   "cell_type": "code",
   "execution_count": 6,
   "metadata": {},
   "outputs": [],
   "source": [
    "df_X = pd.read_csv(path_X_tr)\n",
    "df_y = pd.read_csv(path_y_tr)\n",
    "\n",
    "df_X_te = pd.read_csv(path_X_te)"
   ]
  },
  {
   "cell_type": "markdown",
   "metadata": {},
   "source": [
    "<br>\n",
    "\n",
    "label encoding"
   ]
  },
  {
   "cell_type": "code",
   "execution_count": 7,
   "metadata": {},
   "outputs": [],
   "source": [
    "le = LabelEncoder()\n",
    "le.fit(df_y['surface'].values)\n",
    "y = le.transform(df_y['surface'].values)"
   ]
  },
  {
   "cell_type": "code",
   "execution_count": 8,
   "metadata": {},
   "outputs": [
    {
     "data": {
      "text/plain": [
       "(2667,)"
      ]
     },
     "execution_count": 8,
     "metadata": {},
     "output_type": "execute_result"
    }
   ],
   "source": [
    "y.shape"
   ]
  },
  {
   "cell_type": "markdown",
   "metadata": {},
   "source": [
    "# EDA"
   ]
  },
  {
   "cell_type": "code",
   "execution_count": 9,
   "metadata": {},
   "outputs": [
    {
     "data": {
      "text/html": [
       "<div>\n",
       "<style scoped>\n",
       "    .dataframe tbody tr th:only-of-type {\n",
       "        vertical-align: middle;\n",
       "    }\n",
       "\n",
       "    .dataframe tbody tr th {\n",
       "        vertical-align: top;\n",
       "    }\n",
       "\n",
       "    .dataframe thead th {\n",
       "        text-align: right;\n",
       "    }\n",
       "</style>\n",
       "<table border=\"1\" class=\"dataframe\">\n",
       "  <thead>\n",
       "    <tr style=\"text-align: right;\">\n",
       "      <th></th>\n",
       "      <th>row_id</th>\n",
       "      <th>series_id</th>\n",
       "      <th>measurement_number</th>\n",
       "      <th>orientation_X</th>\n",
       "      <th>orientation_Y</th>\n",
       "      <th>orientation_Z</th>\n",
       "      <th>orientation_W</th>\n",
       "      <th>angular_velocity_X</th>\n",
       "      <th>angular_velocity_Y</th>\n",
       "      <th>angular_velocity_Z</th>\n",
       "      <th>linear_acceleration_X</th>\n",
       "      <th>linear_acceleration_Y</th>\n",
       "      <th>linear_acceleration_Z</th>\n",
       "    </tr>\n",
       "  </thead>\n",
       "  <tbody>\n",
       "    <tr>\n",
       "      <th>0</th>\n",
       "      <td>1_0</td>\n",
       "      <td>1</td>\n",
       "      <td>0</td>\n",
       "      <td>-0.95896</td>\n",
       "      <td>0.24074</td>\n",
       "      <td>0.030758</td>\n",
       "      <td>-0.14661</td>\n",
       "      <td>0.283420</td>\n",
       "      <td>0.002192</td>\n",
       "      <td>-0.050810</td>\n",
       "      <td>2.18480</td>\n",
       "      <td>2.25260</td>\n",
       "      <td>-8.9503</td>\n",
       "    </tr>\n",
       "    <tr>\n",
       "      <th>1</th>\n",
       "      <td>1_1</td>\n",
       "      <td>1</td>\n",
       "      <td>1</td>\n",
       "      <td>-0.95890</td>\n",
       "      <td>0.24079</td>\n",
       "      <td>0.030786</td>\n",
       "      <td>-0.14693</td>\n",
       "      <td>0.108930</td>\n",
       "      <td>-0.009485</td>\n",
       "      <td>0.009155</td>\n",
       "      <td>0.49905</td>\n",
       "      <td>2.97620</td>\n",
       "      <td>-5.4953</td>\n",
       "    </tr>\n",
       "    <tr>\n",
       "      <th>2</th>\n",
       "      <td>1_2</td>\n",
       "      <td>1</td>\n",
       "      <td>2</td>\n",
       "      <td>-0.95889</td>\n",
       "      <td>0.24076</td>\n",
       "      <td>0.030807</td>\n",
       "      <td>-0.14702</td>\n",
       "      <td>-0.073197</td>\n",
       "      <td>0.003959</td>\n",
       "      <td>-0.023384</td>\n",
       "      <td>0.74827</td>\n",
       "      <td>1.68030</td>\n",
       "      <td>-7.3061</td>\n",
       "    </tr>\n",
       "    <tr>\n",
       "      <th>3</th>\n",
       "      <td>1_3</td>\n",
       "      <td>1</td>\n",
       "      <td>3</td>\n",
       "      <td>-0.95888</td>\n",
       "      <td>0.24076</td>\n",
       "      <td>0.030742</td>\n",
       "      <td>-0.14712</td>\n",
       "      <td>-0.064979</td>\n",
       "      <td>0.068265</td>\n",
       "      <td>0.018673</td>\n",
       "      <td>1.84080</td>\n",
       "      <td>0.22349</td>\n",
       "      <td>-11.4910</td>\n",
       "    </tr>\n",
       "    <tr>\n",
       "      <th>4</th>\n",
       "      <td>1_4</td>\n",
       "      <td>1</td>\n",
       "      <td>4</td>\n",
       "      <td>-0.95888</td>\n",
       "      <td>0.24079</td>\n",
       "      <td>0.030707</td>\n",
       "      <td>-0.14702</td>\n",
       "      <td>0.077929</td>\n",
       "      <td>0.005519</td>\n",
       "      <td>0.022119</td>\n",
       "      <td>-0.49667</td>\n",
       "      <td>-0.92942</td>\n",
       "      <td>-12.2980</td>\n",
       "    </tr>\n",
       "  </tbody>\n",
       "</table>\n",
       "</div>"
      ],
      "text/plain": [
       "  row_id  series_id  measurement_number  orientation_X  orientation_Y  \\\n",
       "0    1_0          1                   0       -0.95896        0.24074   \n",
       "1    1_1          1                   1       -0.95890        0.24079   \n",
       "2    1_2          1                   2       -0.95889        0.24076   \n",
       "3    1_3          1                   3       -0.95888        0.24076   \n",
       "4    1_4          1                   4       -0.95888        0.24079   \n",
       "\n",
       "   orientation_Z  orientation_W  angular_velocity_X  angular_velocity_Y  \\\n",
       "0       0.030758       -0.14661            0.283420            0.002192   \n",
       "1       0.030786       -0.14693            0.108930           -0.009485   \n",
       "2       0.030807       -0.14702           -0.073197            0.003959   \n",
       "3       0.030742       -0.14712           -0.064979            0.068265   \n",
       "4       0.030707       -0.14702            0.077929            0.005519   \n",
       "\n",
       "   angular_velocity_Z  linear_acceleration_X  linear_acceleration_Y  \\\n",
       "0           -0.050810                2.18480                2.25260   \n",
       "1            0.009155                0.49905                2.97620   \n",
       "2           -0.023384                0.74827                1.68030   \n",
       "3            0.018673                1.84080                0.22349   \n",
       "4            0.022119               -0.49667               -0.92942   \n",
       "\n",
       "   linear_acceleration_Z  \n",
       "0                -8.9503  \n",
       "1                -5.4953  \n",
       "2                -7.3061  \n",
       "3               -11.4910  \n",
       "4               -12.2980  "
      ]
     },
     "execution_count": 9,
     "metadata": {},
     "output_type": "execute_result"
    }
   ],
   "source": [
    "df_X.head()"
   ]
  },
  {
   "cell_type": "markdown",
   "metadata": {},
   "source": [
    "<br>\n",
    "\n",
    "特徴量作成\n",
    "- 1series_id 1特徴量にしなければならない\n",
    "- 今回は、`series_id` ごとに平均値を出してみた"
   ]
  },
  {
   "cell_type": "code",
   "execution_count": 10,
   "metadata": {},
   "outputs": [],
   "source": [
    "feat_names = ['orientation_X', 'orientation_Y', 'orientation_Z', \n",
    "              'orientation_W', 'angular_velocity_X', 'angular_velocity_Y', 'angular_velocity_Z', \n",
    "              'linear_acceleration_X', 'linear_acceleration_Y', 'linear_acceleration_Z']"
   ]
  },
  {
   "cell_type": "code",
   "execution_count": 11,
   "metadata": {},
   "outputs": [],
   "source": [
    "# groupbyをつかって `series_id` 毎に平均値を作成\n",
    "X = df_X.groupby('series_id')[feat_names].mean()\n",
    "X_te = df_X_te.groupby('series_id')[feat_names].mean()"
   ]
  },
  {
   "cell_type": "code",
   "execution_count": 12,
   "metadata": {},
   "outputs": [
    {
     "data": {
      "text/html": [
       "<div>\n",
       "<style scoped>\n",
       "    .dataframe tbody tr th:only-of-type {\n",
       "        vertical-align: middle;\n",
       "    }\n",
       "\n",
       "    .dataframe tbody tr th {\n",
       "        vertical-align: top;\n",
       "    }\n",
       "\n",
       "    .dataframe thead th {\n",
       "        text-align: right;\n",
       "    }\n",
       "</style>\n",
       "<table border=\"1\" class=\"dataframe\">\n",
       "  <thead>\n",
       "    <tr style=\"text-align: right;\">\n",
       "      <th></th>\n",
       "      <th>orientation_X</th>\n",
       "      <th>orientation_Y</th>\n",
       "      <th>orientation_Z</th>\n",
       "      <th>orientation_W</th>\n",
       "      <th>angular_velocity_X</th>\n",
       "      <th>angular_velocity_Y</th>\n",
       "      <th>angular_velocity_Z</th>\n",
       "      <th>linear_acceleration_X</th>\n",
       "      <th>linear_acceleration_Y</th>\n",
       "      <th>linear_acceleration_Z</th>\n",
       "    </tr>\n",
       "    <tr>\n",
       "      <th>series_id</th>\n",
       "      <th></th>\n",
       "      <th></th>\n",
       "      <th></th>\n",
       "      <th></th>\n",
       "      <th></th>\n",
       "      <th></th>\n",
       "      <th></th>\n",
       "      <th></th>\n",
       "      <th></th>\n",
       "      <th></th>\n",
       "    </tr>\n",
       "  </thead>\n",
       "  <tbody>\n",
       "    <tr>\n",
       "      <th>1</th>\n",
       "      <td>-0.958606</td>\n",
       "      <td>0.241867</td>\n",
       "      <td>0.031650</td>\n",
       "      <td>-0.146876</td>\n",
       "      <td>0.004605</td>\n",
       "      <td>-0.007757</td>\n",
       "      <td>0.006206</td>\n",
       "      <td>0.121867</td>\n",
       "      <td>2.768193</td>\n",
       "      <td>-9.388899</td>\n",
       "    </tr>\n",
       "    <tr>\n",
       "      <th>3</th>\n",
       "      <td>-0.939169</td>\n",
       "      <td>0.310140</td>\n",
       "      <td>0.038955</td>\n",
       "      <td>-0.142319</td>\n",
       "      <td>0.000624</td>\n",
       "      <td>-0.002804</td>\n",
       "      <td>0.007887</td>\n",
       "      <td>0.201791</td>\n",
       "      <td>2.657922</td>\n",
       "      <td>-9.451164</td>\n",
       "    </tr>\n",
       "    <tr>\n",
       "      <th>4</th>\n",
       "      <td>-0.891301</td>\n",
       "      <td>0.428144</td>\n",
       "      <td>0.060056</td>\n",
       "      <td>-0.136460</td>\n",
       "      <td>0.006969</td>\n",
       "      <td>0.046109</td>\n",
       "      <td>-0.142385</td>\n",
       "      <td>-0.086171</td>\n",
       "      <td>2.981498</td>\n",
       "      <td>-9.349988</td>\n",
       "    </tr>\n",
       "    <tr>\n",
       "      <th>5</th>\n",
       "      <td>0.464712</td>\n",
       "      <td>-0.872496</td>\n",
       "      <td>-0.127264</td>\n",
       "      <td>0.081212</td>\n",
       "      <td>-0.007366</td>\n",
       "      <td>-0.000134</td>\n",
       "      <td>-0.006881</td>\n",
       "      <td>0.109911</td>\n",
       "      <td>2.668945</td>\n",
       "      <td>-9.285242</td>\n",
       "    </tr>\n",
       "    <tr>\n",
       "      <th>6</th>\n",
       "      <td>-0.402356</td>\n",
       "      <td>-0.903141</td>\n",
       "      <td>-0.140541</td>\n",
       "      <td>-0.051849</td>\n",
       "      <td>0.010419</td>\n",
       "      <td>0.017725</td>\n",
       "      <td>-0.050957</td>\n",
       "      <td>0.175171</td>\n",
       "      <td>2.640550</td>\n",
       "      <td>-9.465020</td>\n",
       "    </tr>\n",
       "  </tbody>\n",
       "</table>\n",
       "</div>"
      ],
      "text/plain": [
       "           orientation_X  orientation_Y  orientation_Z  orientation_W  \\\n",
       "series_id                                                               \n",
       "1              -0.958606       0.241867       0.031650      -0.146876   \n",
       "3              -0.939169       0.310140       0.038955      -0.142319   \n",
       "4              -0.891301       0.428144       0.060056      -0.136460   \n",
       "5               0.464712      -0.872496      -0.127264       0.081212   \n",
       "6              -0.402356      -0.903141      -0.140541      -0.051849   \n",
       "\n",
       "           angular_velocity_X  angular_velocity_Y  angular_velocity_Z  \\\n",
       "series_id                                                               \n",
       "1                    0.004605           -0.007757            0.006206   \n",
       "3                    0.000624           -0.002804            0.007887   \n",
       "4                    0.006969            0.046109           -0.142385   \n",
       "5                   -0.007366           -0.000134           -0.006881   \n",
       "6                    0.010419            0.017725           -0.050957   \n",
       "\n",
       "           linear_acceleration_X  linear_acceleration_Y  linear_acceleration_Z  \n",
       "series_id                                                                       \n",
       "1                       0.121867               2.768193              -9.388899  \n",
       "3                       0.201791               2.657922              -9.451164  \n",
       "4                      -0.086171               2.981498              -9.349988  \n",
       "5                       0.109911               2.668945              -9.285242  \n",
       "6                       0.175171               2.640550              -9.465020  "
      ]
     },
     "execution_count": 12,
     "metadata": {},
     "output_type": "execute_result"
    }
   ],
   "source": [
    "X.head()"
   ]
  },
  {
   "cell_type": "code",
   "execution_count": 13,
   "metadata": {},
   "outputs": [],
   "source": [
    "# 標準偏差も入れてみる\n",
    "X_var = df_X.groupby('series_id')[feat_names].std()\n",
    "X_var_te = df_X_te.groupby('series_id')[feat_names].std()\n",
    "feat_names_var = X_var.columns\n",
    "feat_names_var = [ name + \"_var\" for name in feat_names_var ]\n",
    "X_var.columns = feat_names_var\n",
    "X_var_te.columns = feat_names_var"
   ]
  },
  {
   "cell_type": "code",
   "execution_count": 14,
   "metadata": {},
   "outputs": [
    {
     "data": {
      "text/html": [
       "<div>\n",
       "<style scoped>\n",
       "    .dataframe tbody tr th:only-of-type {\n",
       "        vertical-align: middle;\n",
       "    }\n",
       "\n",
       "    .dataframe tbody tr th {\n",
       "        vertical-align: top;\n",
       "    }\n",
       "\n",
       "    .dataframe thead th {\n",
       "        text-align: right;\n",
       "    }\n",
       "</style>\n",
       "<table border=\"1\" class=\"dataframe\">\n",
       "  <thead>\n",
       "    <tr style=\"text-align: right;\">\n",
       "      <th></th>\n",
       "      <th>orientation_X_var</th>\n",
       "      <th>orientation_Y_var</th>\n",
       "      <th>orientation_Z_var</th>\n",
       "      <th>orientation_W_var</th>\n",
       "      <th>angular_velocity_X_var</th>\n",
       "      <th>angular_velocity_Y_var</th>\n",
       "      <th>angular_velocity_Z_var</th>\n",
       "      <th>linear_acceleration_X_var</th>\n",
       "      <th>linear_acceleration_Y_var</th>\n",
       "      <th>linear_acceleration_Z_var</th>\n",
       "    </tr>\n",
       "    <tr>\n",
       "      <th>series_id</th>\n",
       "      <th></th>\n",
       "      <th></th>\n",
       "      <th></th>\n",
       "      <th></th>\n",
       "      <th></th>\n",
       "      <th></th>\n",
       "      <th></th>\n",
       "      <th></th>\n",
       "      <th></th>\n",
       "      <th></th>\n",
       "    </tr>\n",
       "  </thead>\n",
       "  <tbody>\n",
       "    <tr>\n",
       "      <th>1</th>\n",
       "      <td>0.000151</td>\n",
       "      <td>0.000499</td>\n",
       "      <td>0.000508</td>\n",
       "      <td>0.000521</td>\n",
       "      <td>0.092309</td>\n",
       "      <td>0.046523</td>\n",
       "      <td>0.067533</td>\n",
       "      <td>1.105945</td>\n",
       "      <td>1.864457</td>\n",
       "      <td>2.123065</td>\n",
       "    </tr>\n",
       "    <tr>\n",
       "      <th>3</th>\n",
       "      <td>0.000227</td>\n",
       "      <td>0.000453</td>\n",
       "      <td>0.000449</td>\n",
       "      <td>0.001371</td>\n",
       "      <td>0.179544</td>\n",
       "      <td>0.046700</td>\n",
       "      <td>0.032265</td>\n",
       "      <td>1.472019</td>\n",
       "      <td>4.201410</td>\n",
       "      <td>3.478530</td>\n",
       "    </tr>\n",
       "    <tr>\n",
       "      <th>4</th>\n",
       "      <td>0.002955</td>\n",
       "      <td>0.006165</td>\n",
       "      <td>0.000985</td>\n",
       "      <td>0.000541</td>\n",
       "      <td>0.044773</td>\n",
       "      <td>0.016114</td>\n",
       "      <td>0.038489</td>\n",
       "      <td>0.437707</td>\n",
       "      <td>1.137776</td>\n",
       "      <td>0.812585</td>\n",
       "    </tr>\n",
       "    <tr>\n",
       "      <th>5</th>\n",
       "      <td>0.000315</td>\n",
       "      <td>0.000225</td>\n",
       "      <td>0.000658</td>\n",
       "      <td>0.000376</td>\n",
       "      <td>0.098252</td>\n",
       "      <td>0.055027</td>\n",
       "      <td>0.052613</td>\n",
       "      <td>1.544754</td>\n",
       "      <td>2.280124</td>\n",
       "      <td>2.280960</td>\n",
       "    </tr>\n",
       "    <tr>\n",
       "      <th>6</th>\n",
       "      <td>0.002120</td>\n",
       "      <td>0.001013</td>\n",
       "      <td>0.000318</td>\n",
       "      <td>0.000557</td>\n",
       "      <td>0.025530</td>\n",
       "      <td>0.011644</td>\n",
       "      <td>0.015867</td>\n",
       "      <td>0.449003</td>\n",
       "      <td>0.671358</td>\n",
       "      <td>0.496206</td>\n",
       "    </tr>\n",
       "  </tbody>\n",
       "</table>\n",
       "</div>"
      ],
      "text/plain": [
       "           orientation_X_var  orientation_Y_var  orientation_Z_var  \\\n",
       "series_id                                                            \n",
       "1                   0.000151           0.000499           0.000508   \n",
       "3                   0.000227           0.000453           0.000449   \n",
       "4                   0.002955           0.006165           0.000985   \n",
       "5                   0.000315           0.000225           0.000658   \n",
       "6                   0.002120           0.001013           0.000318   \n",
       "\n",
       "           orientation_W_var  angular_velocity_X_var  angular_velocity_Y_var  \\\n",
       "series_id                                                                      \n",
       "1                   0.000521                0.092309                0.046523   \n",
       "3                   0.001371                0.179544                0.046700   \n",
       "4                   0.000541                0.044773                0.016114   \n",
       "5                   0.000376                0.098252                0.055027   \n",
       "6                   0.000557                0.025530                0.011644   \n",
       "\n",
       "           angular_velocity_Z_var  linear_acceleration_X_var  \\\n",
       "series_id                                                      \n",
       "1                        0.067533                   1.105945   \n",
       "3                        0.032265                   1.472019   \n",
       "4                        0.038489                   0.437707   \n",
       "5                        0.052613                   1.544754   \n",
       "6                        0.015867                   0.449003   \n",
       "\n",
       "           linear_acceleration_Y_var  linear_acceleration_Z_var  \n",
       "series_id                                                        \n",
       "1                           1.864457                   2.123065  \n",
       "3                           4.201410                   3.478530  \n",
       "4                           1.137776                   0.812585  \n",
       "5                           2.280124                   2.280960  \n",
       "6                           0.671358                   0.496206  "
      ]
     },
     "execution_count": 14,
     "metadata": {},
     "output_type": "execute_result"
    }
   ],
   "source": [
    "X_var.head()"
   ]
  },
  {
   "cell_type": "code",
   "execution_count": 15,
   "metadata": {},
   "outputs": [
    {
     "data": {
      "text/html": [
       "<div>\n",
       "<style scoped>\n",
       "    .dataframe tbody tr th:only-of-type {\n",
       "        vertical-align: middle;\n",
       "    }\n",
       "\n",
       "    .dataframe tbody tr th {\n",
       "        vertical-align: top;\n",
       "    }\n",
       "\n",
       "    .dataframe thead th {\n",
       "        text-align: right;\n",
       "    }\n",
       "</style>\n",
       "<table border=\"1\" class=\"dataframe\">\n",
       "  <thead>\n",
       "    <tr style=\"text-align: right;\">\n",
       "      <th></th>\n",
       "      <th>orientation_X_var</th>\n",
       "      <th>orientation_Y_var</th>\n",
       "      <th>orientation_Z_var</th>\n",
       "      <th>orientation_W_var</th>\n",
       "      <th>angular_velocity_X_var</th>\n",
       "      <th>angular_velocity_Y_var</th>\n",
       "      <th>angular_velocity_Z_var</th>\n",
       "      <th>linear_acceleration_X_var</th>\n",
       "      <th>linear_acceleration_Y_var</th>\n",
       "      <th>linear_acceleration_Z_var</th>\n",
       "    </tr>\n",
       "    <tr>\n",
       "      <th>series_id</th>\n",
       "      <th></th>\n",
       "      <th></th>\n",
       "      <th></th>\n",
       "      <th></th>\n",
       "      <th></th>\n",
       "      <th></th>\n",
       "      <th></th>\n",
       "      <th></th>\n",
       "      <th></th>\n",
       "      <th></th>\n",
       "    </tr>\n",
       "  </thead>\n",
       "  <tbody>\n",
       "    <tr>\n",
       "      <th>0</th>\n",
       "      <td>0.000363</td>\n",
       "      <td>0.000471</td>\n",
       "      <td>0.000432</td>\n",
       "      <td>0.000389</td>\n",
       "      <td>0.052800</td>\n",
       "      <td>0.031544</td>\n",
       "      <td>0.017127</td>\n",
       "      <td>0.911175</td>\n",
       "      <td>1.387790</td>\n",
       "      <td>1.095040</td>\n",
       "    </tr>\n",
       "    <tr>\n",
       "      <th>2</th>\n",
       "      <td>0.001377</td>\n",
       "      <td>0.000785</td>\n",
       "      <td>0.000541</td>\n",
       "      <td>0.000278</td>\n",
       "      <td>0.060168</td>\n",
       "      <td>0.035530</td>\n",
       "      <td>0.021866</td>\n",
       "      <td>0.756138</td>\n",
       "      <td>1.769792</td>\n",
       "      <td>1.140267</td>\n",
       "    </tr>\n",
       "    <tr>\n",
       "      <th>9</th>\n",
       "      <td>0.021568</td>\n",
       "      <td>0.028636</td>\n",
       "      <td>0.004359</td>\n",
       "      <td>0.003011</td>\n",
       "      <td>0.083914</td>\n",
       "      <td>0.064916</td>\n",
       "      <td>0.035946</td>\n",
       "      <td>1.702722</td>\n",
       "      <td>1.927859</td>\n",
       "      <td>2.137469</td>\n",
       "    </tr>\n",
       "    <tr>\n",
       "      <th>10</th>\n",
       "      <td>0.000878</td>\n",
       "      <td>0.001494</td>\n",
       "      <td>0.000368</td>\n",
       "      <td>0.000555</td>\n",
       "      <td>0.048430</td>\n",
       "      <td>0.039834</td>\n",
       "      <td>0.028673</td>\n",
       "      <td>1.184800</td>\n",
       "      <td>1.217480</td>\n",
       "      <td>1.123871</td>\n",
       "    </tr>\n",
       "    <tr>\n",
       "      <th>13</th>\n",
       "      <td>0.003819</td>\n",
       "      <td>0.001530</td>\n",
       "      <td>0.000668</td>\n",
       "      <td>0.001280</td>\n",
       "      <td>0.053344</td>\n",
       "      <td>0.046725</td>\n",
       "      <td>0.032170</td>\n",
       "      <td>1.408443</td>\n",
       "      <td>1.004574</td>\n",
       "      <td>1.330694</td>\n",
       "    </tr>\n",
       "  </tbody>\n",
       "</table>\n",
       "</div>"
      ],
      "text/plain": [
       "           orientation_X_var  orientation_Y_var  orientation_Z_var  \\\n",
       "series_id                                                            \n",
       "0                   0.000363           0.000471           0.000432   \n",
       "2                   0.001377           0.000785           0.000541   \n",
       "9                   0.021568           0.028636           0.004359   \n",
       "10                  0.000878           0.001494           0.000368   \n",
       "13                  0.003819           0.001530           0.000668   \n",
       "\n",
       "           orientation_W_var  angular_velocity_X_var  angular_velocity_Y_var  \\\n",
       "series_id                                                                      \n",
       "0                   0.000389                0.052800                0.031544   \n",
       "2                   0.000278                0.060168                0.035530   \n",
       "9                   0.003011                0.083914                0.064916   \n",
       "10                  0.000555                0.048430                0.039834   \n",
       "13                  0.001280                0.053344                0.046725   \n",
       "\n",
       "           angular_velocity_Z_var  linear_acceleration_X_var  \\\n",
       "series_id                                                      \n",
       "0                        0.017127                   0.911175   \n",
       "2                        0.021866                   0.756138   \n",
       "9                        0.035946                   1.702722   \n",
       "10                       0.028673                   1.184800   \n",
       "13                       0.032170                   1.408443   \n",
       "\n",
       "           linear_acceleration_Y_var  linear_acceleration_Z_var  \n",
       "series_id                                                        \n",
       "0                           1.387790                   1.095040  \n",
       "2                           1.769792                   1.140267  \n",
       "9                           1.927859                   2.137469  \n",
       "10                          1.217480                   1.123871  \n",
       "13                          1.004574                   1.330694  "
      ]
     },
     "execution_count": 15,
     "metadata": {},
     "output_type": "execute_result"
    }
   ],
   "source": [
    "X_var_te.head()"
   ]
  },
  {
   "cell_type": "code",
   "execution_count": 16,
   "metadata": {},
   "outputs": [],
   "source": [
    "# featureをどんどん追加してみる\n",
    "feat_names = ['angular_velocity_X', 'angular_velocity_Y', 'angular_velocity_Z', \n",
    "              'linear_acceleration_X', 'linear_acceleration_Y', 'linear_acceleration_Z']\n",
    "series_id_list = df_X['series_id'].unique()"
   ]
  },
  {
   "cell_type": "code",
   "execution_count": 17,
   "metadata": {},
   "outputs": [],
   "source": [
    "# yy = df_X[df_X['series_id']==series_id][feat_name].values\n",
    "# df_X[df_X['series_id']==1]"
   ]
  },
  {
   "cell_type": "code",
   "execution_count": 18,
   "metadata": {},
   "outputs": [],
   "source": [
    "df_new = pd.DataFrame( columns=['series_id',\n",
    "                                  'angular_velocity_X_flatness'   ,'angular_velocity_Y_flatness'   ,'angular_velocity_Z_flatness',\n",
    "                                 'linear_acceleration_X_flatness','linear_acceleration_Y_flatness','linear_acceleration_Z_flatness',\n",
    "                               ] )\n",
    "\n",
    "\n",
    "sr = 0.1\n",
    "for series_id in series_id_list:\n",
    "# for series_id in series_id_list[:3]:\n",
    "    \n",
    "    new_feat_val_list = [int(series_id)]\n",
    "\n",
    "    for feat_name in feat_names:\n",
    "    # flatness\n",
    "        yy = df_X[df_X['series_id']==series_id][feat_name].values\n",
    "        val = librosa.feature.spectral_flatness(y=yy, n_fft=128)\n",
    "        new_feat_val_list.append(val[0][0])\n",
    "    tmp_se = pd.Series( new_feat_val_list, index=df_new.columns )\n",
    "    df_new = df_new.append( tmp_se, ignore_index=True )    "
   ]
  },
  {
   "cell_type": "code",
   "execution_count": 19,
   "metadata": {},
   "outputs": [
    {
     "data": {
      "text/html": [
       "<div>\n",
       "<style scoped>\n",
       "    .dataframe tbody tr th:only-of-type {\n",
       "        vertical-align: middle;\n",
       "    }\n",
       "\n",
       "    .dataframe tbody tr th {\n",
       "        vertical-align: top;\n",
       "    }\n",
       "\n",
       "    .dataframe thead th {\n",
       "        text-align: right;\n",
       "    }\n",
       "</style>\n",
       "<table border=\"1\" class=\"dataframe\">\n",
       "  <thead>\n",
       "    <tr style=\"text-align: right;\">\n",
       "      <th></th>\n",
       "      <th>series_id</th>\n",
       "      <th>angular_velocity_X_flatness</th>\n",
       "      <th>angular_velocity_Y_flatness</th>\n",
       "      <th>angular_velocity_Z_flatness</th>\n",
       "      <th>linear_acceleration_X_flatness</th>\n",
       "      <th>linear_acceleration_Y_flatness</th>\n",
       "      <th>linear_acceleration_Z_flatness</th>\n",
       "    </tr>\n",
       "  </thead>\n",
       "  <tbody>\n",
       "    <tr>\n",
       "      <th>0</th>\n",
       "      <td>1.0</td>\n",
       "      <td>0.021054</td>\n",
       "      <td>0.143648</td>\n",
       "      <td>0.018275</td>\n",
       "      <td>0.342903</td>\n",
       "      <td>0.090136</td>\n",
       "      <td>0.007601</td>\n",
       "    </tr>\n",
       "    <tr>\n",
       "      <th>1</th>\n",
       "      <td>3.0</td>\n",
       "      <td>0.003986</td>\n",
       "      <td>0.135348</td>\n",
       "      <td>0.064265</td>\n",
       "      <td>0.103396</td>\n",
       "      <td>0.032772</td>\n",
       "      <td>0.021691</td>\n",
       "    </tr>\n",
       "    <tr>\n",
       "      <th>2</th>\n",
       "      <td>4.0</td>\n",
       "      <td>0.025663</td>\n",
       "      <td>0.011721</td>\n",
       "      <td>0.000594</td>\n",
       "      <td>0.073131</td>\n",
       "      <td>0.001469</td>\n",
       "      <td>0.000331</td>\n",
       "    </tr>\n",
       "    <tr>\n",
       "      <th>3</th>\n",
       "      <td>5.0</td>\n",
       "      <td>0.047184</td>\n",
       "      <td>0.094430</td>\n",
       "      <td>0.040432</td>\n",
       "      <td>0.177096</td>\n",
       "      <td>0.028791</td>\n",
       "      <td>0.004933</td>\n",
       "    </tr>\n",
       "    <tr>\n",
       "      <th>4</th>\n",
       "      <td>6.0</td>\n",
       "      <td>0.096968</td>\n",
       "      <td>0.034350</td>\n",
       "      <td>0.002099</td>\n",
       "      <td>0.153979</td>\n",
       "      <td>0.004421</td>\n",
       "      <td>0.000213</td>\n",
       "    </tr>\n",
       "  </tbody>\n",
       "</table>\n",
       "</div>"
      ],
      "text/plain": [
       "   series_id  angular_velocity_X_flatness  angular_velocity_Y_flatness  \\\n",
       "0        1.0                     0.021054                     0.143648   \n",
       "1        3.0                     0.003986                     0.135348   \n",
       "2        4.0                     0.025663                     0.011721   \n",
       "3        5.0                     0.047184                     0.094430   \n",
       "4        6.0                     0.096968                     0.034350   \n",
       "\n",
       "   angular_velocity_Z_flatness  linear_acceleration_X_flatness  \\\n",
       "0                     0.018275                        0.342903   \n",
       "1                     0.064265                        0.103396   \n",
       "2                     0.000594                        0.073131   \n",
       "3                     0.040432                        0.177096   \n",
       "4                     0.002099                        0.153979   \n",
       "\n",
       "   linear_acceleration_Y_flatness  linear_acceleration_Z_flatness  \n",
       "0                        0.090136                        0.007601  \n",
       "1                        0.032772                        0.021691  \n",
       "2                        0.001469                        0.000331  \n",
       "3                        0.028791                        0.004933  \n",
       "4                        0.004421                        0.000213  "
      ]
     },
     "execution_count": 19,
     "metadata": {},
     "output_type": "execute_result"
    }
   ],
   "source": [
    "df_new.head()"
   ]
  },
  {
   "cell_type": "markdown",
   "metadata": {},
   "source": [
    "---"
   ]
  },
  {
   "cell_type": "markdown",
   "metadata": {},
   "source": [
    "<font color='orange'>**series_id が特徴量として聞く理由を探ってみる**</font>"
   ]
  },
  {
   "cell_type": "code",
   "execution_count": 20,
   "metadata": {},
   "outputs": [],
   "source": [
    "series_id = df_y['series_id'].values"
   ]
  },
  {
   "cell_type": "code",
   "execution_count": 21,
   "metadata": {},
   "outputs": [
    {
     "data": {
      "text/plain": [
       "array(['carpet'], dtype=object)"
      ]
     },
     "execution_count": 21,
     "metadata": {},
     "output_type": "execute_result"
    }
   ],
   "source": [
    "le.inverse_transform([0])"
   ]
  },
  {
   "cell_type": "markdown",
   "metadata": {},
   "source": [
    "<br>\n",
    "\n",
    "surfaceごとのseries_idのkde"
   ]
  },
  {
   "cell_type": "code",
   "execution_count": 22,
   "metadata": {},
   "outputs": [
    {
     "data": {
      "text/plain": [
       "Text(0.5, 0, 'id')"
      ]
     },
     "execution_count": 22,
     "metadata": {},
     "output_type": "execute_result"
    },
    {
     "data": {
      "image/png": "[encoded data removed]",
      "text/plain": [
       "<Figure size 720x720 with 1 Axes>"
      ]
     },
     "metadata": {},
     "output_type": "display_data"
    }
   ],
   "source": [
    "fig, ax = plt.subplots(figsize=(10, 10))\n",
    "for class_ in np.unique(y):\n",
    "    idxs = y == class_\n",
    "    series_id_class = series_id[idxs]\n",
    "    sns.kdeplot(series_id_class, ax=ax, label=f'surface: {le.inverse_transform([class_])}')\n",
    "ax.set_xlabel('id')"
   ]
  },
  {
   "cell_type": "markdown",
   "metadata": {},
   "source": [
    "> soft_tiles と、hard_tiles はseries_id 低めとなっている。  ただ、submissionのデータセットでもそうなってるかはわからない。  \n",
    "あ、久保田がtrainのデータ・セットから作ったから、そうなってる可能性が高いか..."
   ]
  },
  {
   "cell_type": "markdown",
   "metadata": {},
   "source": [
    "---"
   ]
  },
  {
   "cell_type": "code",
   "execution_count": 23,
   "metadata": {},
   "outputs": [],
   "source": [
    "series_id_list_te = df_X_te['series_id'].unique()"
   ]
  },
  {
   "cell_type": "code",
   "execution_count": 24,
   "metadata": {},
   "outputs": [],
   "source": [
    "df_new_te = pd.DataFrame( columns=['series_id',\n",
    "                                  'angular_velocity_X_flatness'   ,'angular_velocity_Y_flatness'   ,'angular_velocity_Z_flatness',\n",
    "                                 'linear_acceleration_X_flatness','linear_acceleration_Y_flatness','linear_acceleration_Z_flatness',\n",
    "                               ] )\n",
    "\n",
    "\n",
    "sr = 0.1\n",
    "for series_id in series_id_list_te:\n",
    "    \n",
    "    new_feat_val_list_te = [int(series_id)]\n",
    "\n",
    "    for feat_name in feat_names:\n",
    "    # flatness\n",
    "        yy = df_X_te[df_X_te['series_id']==series_id][feat_name].values\n",
    "        val = librosa.feature.spectral_flatness(y=yy, n_fft=128)\n",
    "        new_feat_val_list_te.append(val[0][0])\n",
    "    tmp_se_te = pd.Series( new_feat_val_list_te, index=df_new_te.columns )\n",
    "    \n",
    "    df_new_te = df_new_te.append( tmp_se_te, ignore_index=True )    \n",
    "\n",
    "df_new['series_id'] = df_new['series_id'].astype(np.int64)\n",
    "df_new_te['series_id'] = df_new_te['series_id'].astype(np.int64)"
   ]
  },
  {
   "cell_type": "markdown",
   "metadata": {},
   "source": [
    "<br>\n",
    "\n",
    "merge"
   ]
  },
  {
   "cell_type": "code",
   "execution_count": 27,
   "metadata": {},
   "outputs": [],
   "source": [
    "X_plus = pd.merge(X,X_var,on='series_id')\n",
    "X_plus = pd.merge(X_plus,df_new,on='series_id')\n",
    "\n",
    "X_plus_te = pd.merge(X_te,X_var_te,on='series_id')\n",
    "X_plus_te = pd.merge(X_plus_te,df_new_te,on='series_id')\n",
    "\n",
    "#X_te_plus_v = pd.merge(X_te,X_plus_te,on='series_id')"
   ]
  },
  {
   "cell_type": "raw",
   "metadata": {},
   "source": [
    "# 標準化\n",
    "sc = StandardScaler()\n",
    "X_plus_val = X_plus.drop([\"series_id\"],axis=1)\n",
    "val_columns = X_plus_val.columns\n",
    "X_plus_val_std = pd.DataFrame(sc.fit_transform(X_plus_val),columns=val_columns)\n",
    "X_plus_std = copy.deepcopy(X_plus)\n",
    "X_plus_std[val_columns] = X_plus_val_std\n",
    "#X_plus_std = X_plus_std.drop('series_id',axis=1)"
   ]
  },
  {
   "cell_type": "raw",
   "metadata": {},
   "source": [
    "# 標準化\n",
    "X_plus_val_te = X_plus_te.drop([\"series_id\"],axis=1)\n",
    "val_columns = X_plus_val_te.columns\n",
    "X_plus_val_std_te = pd.DataFrame(sc.fit_transform(X_plus_val_te),columns=val_columns)\n",
    "X_plus_std_te = copy.deepcopy(X_plus_te)\n",
    "X_plus_std_te[val_columns] = X_plus_val_std_te\n",
    "#X_plus_std_te = X_plus_std_te.drop('series_id',axis=1)"
   ]
  },
  {
   "cell_type": "markdown",
   "metadata": {},
   "source": [
    "<font color='yellow'> **↑ これ、だめです。標準化の値をテストデータとtrainデータで分けるのは。やるなら、trainで作ったscをtrainとtestに使うとかです。そもそも、決定木系なので標準化意味ないのですが。** </font>"
   ]
  },
  {
   "cell_type": "raw",
   "metadata": {},
   "source": [
    "#不要なfeatureを削除"
   ]
  },
  {
   "cell_type": "raw",
   "metadata": {},
   "source": [
    "X_plus_std = X_plus_std.drop([\"angular_velocity_X_flatness\",\n",
    "\"angular_velocity_Y_flatness\",\n",
    "\"angular_velocity_Z_flatness\",\n",
    "\"linear_acceleration_X_flatness\",\n",
    "\"linear_acceleration_Y_flatness\",\n",
    "\"linear_acceleration_Z_flatness\",],axis=1)\n",
    "X_plus_std.head()\n"
   ]
  },
  {
   "cell_type": "raw",
   "metadata": {},
   "source": [
    "X_plus_std_te = X_plus_std_te.drop([\"angular_velocity_X_flatness\",\n",
    "\"angular_velocity_Y_flatness\",\n",
    "\"angular_velocity_Z_flatness\",\n",
    "\"linear_acceleration_X_flatness\",\n",
    "\"linear_acceleration_Y_flatness\",\n",
    "\"linear_acceleration_Z_flatness\",],axis=1)\n",
    "X_plus_std_te.head()\n"
   ]
  },
  {
   "cell_type": "code",
   "execution_count": 28,
   "metadata": {},
   "outputs": [],
   "source": [
    "X_plus_std = X_plus\n",
    "X_plus_std_te = X_plus_te"
   ]
  },
  {
   "cell_type": "code",
   "execution_count": 29,
   "metadata": {},
   "outputs": [
    {
     "name": "stdout",
     "output_type": "stream",
     "text": [
      "count\n",
      "n_df_X: 341376\n",
      "   n_X: 2667\n",
      "   n_X__var: 2667\n",
      "   n_y: 2667\n"
     ]
    }
   ],
   "source": [
    "print('count')\n",
    "print(f'n_df_X: {len(df_X)}')\n",
    "print(f'   n_X: {len(X)}')\n",
    "print(f'   n_X__var: {len(X_plus_std)}')\n",
    "print(f'   n_y: {len(y)}')"
   ]
  },
  {
   "cell_type": "markdown",
   "metadata": {},
   "source": [
    "## train and evaluation"
   ]
  },
  {
   "cell_type": "markdown",
   "metadata": {},
   "source": [
    "<br>\n",
    "\n",
    "train validation split  \n",
    "(本当は、クロスバリデーションがいい。)"
   ]
  },
  {
   "cell_type": "code",
   "execution_count": 133,
   "metadata": {},
   "outputs": [
    {
     "data": {
      "text/plain": [
       "Index(['series_id', 'orientation_X', 'orientation_Y', 'orientation_Z',\n",
       "       'orientation_W', 'angular_velocity_X', 'angular_velocity_Y',\n",
       "       'angular_velocity_Z', 'linear_acceleration_X', 'linear_acceleration_Y',\n",
       "       'linear_acceleration_Z', 'orientation_X_var', 'orientation_Y_var',\n",
       "       'orientation_Z_var', 'orientation_W_var', 'angular_velocity_X_var',\n",
       "       'angular_velocity_Y_var', 'angular_velocity_Z_var',\n",
       "       'linear_acceleration_X_var', 'linear_acceleration_Y_var',\n",
       "       'linear_acceleration_Z_var', 'angular_velocity_X_flatness',\n",
       "       'angular_velocity_Y_flatness', 'angular_velocity_Z_flatness',\n",
       "       'linear_acceleration_X_flatness', 'linear_acceleration_Y_flatness',\n",
       "       'linear_acceleration_Z_flatness'],\n",
       "      dtype='object')"
      ]
     },
     "execution_count": 133,
     "metadata": {},
     "output_type": "execute_result"
    }
   ],
   "source": [
    "X_plus_std.columns"
   ]
  },
  {
   "cell_type": "code",
   "execution_count": 30,
   "metadata": {},
   "outputs": [],
   "source": [
    "# オプションにstratify入れてるのもポイント\n",
    "X_tr, X_va, y_tr, y_va = train_test_split(X_plus_std, y, test_size=0.33, random_state=42, stratify=y)"
   ]
  },
  {
   "cell_type": "markdown",
   "metadata": {},
   "source": [
    "<br>\n",
    "\n",
    "lightgbmは以下を参考にしてください。\n",
    "> https://github.com/fkubota/notebook/blob/master/12_lightGBM.ipynb"
   ]
  },
  {
   "cell_type": "code",
   "execution_count": 127,
   "metadata": {},
   "outputs": [
    {
     "name": "stdout",
     "output_type": "stream",
     "text": [
      "Training until validation scores don't improve for 100 rounds\n",
      "[30]\ttraining's multi_logloss: 0.47527\tvalid_1's multi_logloss: 0.788234\n",
      "[60]\ttraining's multi_logloss: 0.149893\tvalid_1's multi_logloss: 0.501039\n",
      "[90]\ttraining's multi_logloss: 0.0483937\tvalid_1's multi_logloss: 0.392759\n",
      "[120]\ttraining's multi_logloss: 0.015972\tvalid_1's multi_logloss: 0.352929\n",
      "[150]\ttraining's multi_logloss: 0.00533099\tvalid_1's multi_logloss: 0.339329\n",
      "[180]\ttraining's multi_logloss: 0.00180257\tvalid_1's multi_logloss: 0.340595\n",
      "[210]\ttraining's multi_logloss: 0.000608933\tvalid_1's multi_logloss: 0.347745\n",
      "[240]\ttraining's multi_logloss: 0.000208752\tvalid_1's multi_logloss: 0.360601\n",
      "Early stopping, best iteration is:\n",
      "[166]\ttraining's multi_logloss: 0.00297506\tvalid_1's multi_logloss: 0.338129\n"
     ]
    }
   ],
   "source": [
    "model = lgb.LGBMClassifier(objective='multiclass',  \n",
    "                           num_leaves=100,\n",
    "                           max_depth=100, \n",
    "                           learning_rate=0.05,\n",
    "                           min_child_samples=10,\n",
    "                           colsample_bytree=0.5,\n",
    "                           random_state=42,\n",
    "                           n_estimators=1000)\n",
    "result = model.fit(X_tr, y_tr,\n",
    "                   eval_set=[(X_tr, y_tr), (X_va, y_va)],\n",
    "                   #eval_metric='multi_logloss',\n",
    "                   verbose=30,\n",
    "                   early_stopping_rounds=100)"
   ]
  },
  {
   "cell_type": "markdown",
   "metadata": {},
   "source": [
    "<font color='yellow'>**パラメータ見た感じ、min_child_samplesとcolsample_bytreeが効きそうです。おそらく、データのレコード数が極端に少ないクラスがあるためです。モデルの仕組みを理解していると、パラメータの調整もある程度調整できます。**</font>"
   ]
  },
  {
   "cell_type": "code",
   "execution_count": 128,
   "metadata": {},
   "outputs": [],
   "source": [
    "pred_tr = model.predict(X_tr, num_iteration=model.best_iteration_)\n",
    "pred_va = model.predict(X_va, num_iteration=model.best_iteration_)"
   ]
  },
  {
   "cell_type": "markdown",
   "metadata": {},
   "source": [
    "<font color='yellow'>**↑ベストイテレーションのパラム使わないとearly_stoping_roundsの意味がないです**</font>"
   ]
  },
  {
   "cell_type": "markdown",
   "metadata": {},
   "source": [
    "<br>\n",
    "\n",
    "evaluatoin\n",
    "- score"
   ]
  },
  {
   "cell_type": "code",
   "execution_count": 129,
   "metadata": {},
   "outputs": [
    {
     "name": "stdout",
     "output_type": "stream",
     "text": [
      "accurady train: 1.000\n",
      "accurady valid: 0.898\n"
     ]
    }
   ],
   "source": [
    "print(f'accurady train: {accuracy_score(y_tr, pred_tr):.3f}')\n",
    "print(f'accurady valid: {accuracy_score(y_va, pred_va):.3f}')"
   ]
  },
  {
   "cell_type": "markdown",
   "metadata": {},
   "source": [
    "<br>\n",
    "\n",
    "- confusin_matlix"
   ]
  },
  {
   "cell_type": "raw",
   "metadata": {},
   "source": [
    "plot_confusion_matrix(y_va, pred_va, classes=le.classes_)"
   ]
  },
  {
   "cell_type": "markdown",
   "metadata": {},
   "source": [
    "<br>\n",
    "\n",
    "- permutation importance\n",
    "\n",
    "> https://github.com/fkubota/LightningTalk/blob/master/003_permutation_importance/LT_permutation_importance.ipynb"
   ]
  },
  {
   "cell_type": "raw",
   "metadata": {},
   "source": [
    "pi = permutation_importance(model, accuracy_score) # model と metric を渡す\n",
    "pi.compute(X_va, y_va)\n",
    "pi.show_permutation_importance(score_type='accuracy_score')  # loss or accuracy"
   ]
  },
  {
   "cell_type": "raw",
   "metadata": {},
   "source": [
    "model = RandomForestClassifier(random_state=42)\n",
    "\n",
    "scores = cross_val_score(model, X_plus_var, y)\n",
    "print('Cross-Validation scores: {}'.format(scores))\n",
    "print('Average score: {}'.format(np.mean(scores)))"
   ]
  },
  {
   "cell_type": "markdown",
   "metadata": {},
   "source": [
    "# Submission\n",
    "- 作成したモデルでテストデータを評価する"
   ]
  },
  {
   "cell_type": "code",
   "execution_count": 130,
   "metadata": {},
   "outputs": [],
   "source": [
    "pred_te = model.predict(X_plus_std_te)"
   ]
  },
  {
   "cell_type": "code",
   "execution_count": 131,
   "metadata": {},
   "outputs": [],
   "source": [
    "submission = pd.DataFrame(df_X_te['series_id'].unique(), columns=['series_id'])\n",
    "submission['surface'] = le.inverse_transform(pred_te)"
   ]
  },
  {
   "cell_type": "markdown",
   "metadata": {},
   "source": [
    "<br>\n",
    "\n",
    "submission data を渡す"
   ]
  },
  {
   "cell_type": "code",
   "execution_count": 132,
   "metadata": {},
   "outputs": [
    {
     "name": "stdout",
     "output_type": "stream",
     "text": [
      "accuracy score:0.903\n"
     ]
    }
   ],
   "source": [
    "accuracy = tell_me_score(submission)\n",
    "print(f'accuracy score:{accuracy :.3f}')"
   ]
  },
  {
   "cell_type": "code",
   "execution_count": 113,
   "metadata": {},
   "outputs": [],
   "source": [
    "# zcr 追加 0.748 → 0.756\n",
    "# centroid 追加 0.761 → 0.773\n",
    "# bandwidth 追加 0.767 → 0.770\n",
    "# flatness 追加 0.716 → 0.781\n",
    "# rolloff 追加 0.766　→ 0.757\n",
    "# lpc 追加 0.701"
   ]
  },
  {
   "cell_type": "code",
   "execution_count": null,
   "metadata": {},
   "outputs": [],
   "source": []
  },
  {
   "cell_type": "code",
   "execution_count": null,
   "metadata": {},
   "outputs": [],
   "source": [
    "\n",
    "\n",
    "\n",
    "\n",
    "\n",
    "\n",
    "\n",
    "\n",
    "\n",
    "\n",
    "\n",
    "\n",
    "\n",
    "\n",
    "\n",
    "\n",
    "\n",
    "\n",
    "\n",
    "\n",
    "\n",
    "\n",
    "\n",
    "\n",
    "\n"
   ]
  }
 ],
 "metadata": {
  "kernelspec": {
   "display_name": "Python 3",
   "language": "python",
   "name": "python3"
  },
  "language_info": {
   "codemirror_mode": {
    "name": "ipython",
    "version": 3
   },
   "file_extension": ".py",
   "mimetype": "text/x-python",
   "name": "python",
   "nbconvert_exporter": "python",
   "pygments_lexer": "ipython3",
   "version": "3.6.10"
  }
 },
 "nbformat": 4,
 "nbformat_minor": 4
}
