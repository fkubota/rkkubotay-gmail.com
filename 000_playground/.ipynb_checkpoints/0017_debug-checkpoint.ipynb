{
 "cells": [
  {
   "cell_type": "markdown",
   "id": "8a9bd03b",
   "metadata": {},
   "source": [
    "# Overview\n",
    "- 分析コンペLT会#3 の発表資料の一つ\n",
    "- 「Jupyter Notebook」 × 「debug」 がテーマ\n",
    "- このノートブックでは、 `pdb`, `%debug` を学ぶ"
   ]
  },
  {
   "cell_type": "markdown",
   "id": "ca83bd61",
   "metadata": {},
   "source": [
    "# Import"
   ]
  },
  {
   "cell_type": "code",
   "execution_count": 61,
   "id": "a7517cca",
   "metadata": {},
   "outputs": [],
   "source": [
    "# デバッガ\n",
    "from pdb import set_trace as st\n",
    "# from ipdb import set_trace as st  # <--- ipdb がインストールされているならこっちが良いかも。(キレイ)\n",
    "\n",
    "import numpy as np\n",
    "import matplotlib.pyplot as plt"
   ]
  },
  {
   "cell_type": "markdown",
   "id": "0667d28e",
   "metadata": {},
   "source": [
    "# 　pdb を学ぶ\n",
    "`pdb` は Python の公式デバッガで、Pyhton3をインストールすると一緒についてきます。  \n",
    "つまり追加のインストールなどは不要。  \n",
    "さっそく使ってみましょう。  \n",
    "簡単な例として以下に、簡単なclassを作ってみました。  "
   ]
  },
  {
   "cell_type": "code",
   "execution_count": 37,
   "id": "0d6492d0",
   "metadata": {},
   "outputs": [],
   "source": [
    "class keisanki:\n",
    "    def __init__(self):\n",
    "        self.seinou = 'chou kouseinou'\n",
    "    \n",
    "    def show_count(self):\n",
    "        print(self.count)\n",
    "    \n",
    "    def tashizan(self, a, b):\n",
    "        return a + b\n",
    "    \n",
    "    def hikizan(self, a, b):\n",
    "        return a - b\n",
    "    \n",
    "    def kakezan(self, a, b):\n",
    "        return a * b\n",
    "    \n",
    "    def warizan(self, a, b):\n",
    "        return a / b\n",
    "    \n",
    "    def goukei(self, arr):\n",
    "        for num in arr:\n",
    "            goukei = 0\n",
    "            goukei = self.tashizan(goukei, num)\n",
    "        return goukei\n",
    "    \n",
    "    def heikin(self, arr):\n",
    "        goukei = self.goukei(arr)\n",
    "        return goukei / len(arr)"
   ]
  },
  {
   "cell_type": "code",
   "execution_count": 38,
   "id": "ab76221c",
   "metadata": {},
   "outputs": [
    {
     "name": "stdout",
     "output_type": "stream",
     "text": [
      "chou kouseinou\n"
     ]
    }
   ],
   "source": [
    "keisan = keisanki()\n",
    "print(keisan.seinou)"
   ]
  },
  {
   "cell_type": "markdown",
   "id": "cf49add9",
   "metadata": {},
   "source": [
    "## サイコロの平均値を求めてみる"
   ]
  },
  {
   "cell_type": "code",
   "execution_count": 39,
   "id": "e141c673",
   "metadata": {},
   "outputs": [
    {
     "data": {
      "text/plain": [
       "1.0"
      ]
     },
     "execution_count": 39,
     "metadata": {},
     "output_type": "execute_result"
    }
   ],
   "source": [
    "arr_saikoro = [1, 2, 3, 4, 5, 6]\n",
    "keisan.heikin(arr_saikoro)"
   ]
  },
  {
   "cell_type": "markdown",
   "id": "b5067b10",
   "metadata": {},
   "source": [
    "---> あれ、おかしい。3.5になるはず。\n",
    "\n",
    "<br>\n",
    "\n",
    "ということでデバッグしてみます。  \n",
    "keisanki class の `heikin` メソッドの中に `goukei` メソッド が使われいます。  \n",
    "これが怪しい気がするので見てみることにします。  \n",
    "(よくある状況ですよね。hoge class の 中の Aメソッドの中のBメソッドの中の...........)  \n",
    "デバッガはNotebook上部に、`from pdb import set_trace as st` とすでに用意してあります。  \n",
    "細かい説明をするより動かした方が早いと思うので早速使ってみます。  \n",
    "下記のように `goukei` の中に `st()` を忍び込ませています。  \n",
    "それでは実行してみましょう。"
   ]
  },
  {
   "cell_type": "code",
   "execution_count": 42,
   "id": "feb81624",
   "metadata": {},
   "outputs": [],
   "source": [
    "class keisanki:\n",
    "    def __init__(self):\n",
    "        self.seinou = 'chou kouseinou'\n",
    "    \n",
    "    def show_count(self):\n",
    "        print(self.count)\n",
    "    \n",
    "    def tashizan(self, a, b):\n",
    "        return a + b\n",
    "    \n",
    "    def hikizan(self, a, b):\n",
    "        return a - b\n",
    "    \n",
    "    def kakezan(self, a, b):\n",
    "        return a * b\n",
    "    \n",
    "    def warizan(self, a, b):\n",
    "        return a / b\n",
    "    \n",
    "    def goukei(self, arr):\n",
    "        st()  # <----------- これ！\n",
    "        for num in arr:\n",
    "            goukei = 0\n",
    "            goukei = self.tashizan(goukei, num)\n",
    "        return goukei\n",
    "    \n",
    "    def heikin(self, arr):\n",
    "        goukei = self.goukei(arr)\n",
    "        return goukei / len(arr)"
   ]
  },
  {
   "cell_type": "code",
   "execution_count": 44,
   "id": "d80fe871",
   "metadata": {},
   "outputs": [],
   "source": [
    "keisan = keisanki()\n",
    "print(keisan.seinou)"
   ]
  },
  {
   "cell_type": "markdown",
   "id": "ababb576",
   "metadata": {},
   "source": [
    "<br>  \n",
    "\n",
    "下のセルを実行するとテキストボックスが出てきます。  \n",
    "以下の順番で操作してください。  \n",
    "(コマンド入力後にEnterを押してください)  \n",
    "(わけわからなくなったら `q` で抜けることができます)\n",
    "\n",
    "1. `l`: 現在位置の前後 5行 が見れます。 (どこにいるかわからなくなったらとりあえずこれ)\n",
    "2. `ll`: 現在位置の関数全体が見えます。\n",
    "3. `p arr`: print(arr) と同じ。arrは意図通り入力されているようです。次はfor文の中に進んでいきましょう。\n",
    "4. `n`: next。 `->` が22行目から23行目に移動しているのがわかります。\n",
    "5. `p goukei`: 23行目に居ますが、実行はされていない状態ですので `NameError: name 'goukei' is not defined` と出力されます。もう一度 `n` をしてみましょう。  \n",
    "6. `n`: next。\n",
    "7. `p goukei`: goukeiが表示されるはずです。  \n",
    "8. `n`: next。 tashizan を実行します。カーソルはfor分の一番上にあるはずです。  \n",
    "9. `p goukei`: 1と表示されました。24行目を実行する度にこの `p goukei` が1+2+3+...と大きくなっていくはずです。`n` を多用してfor文をすすめることもできますが面倒です。そのため、break point を使いたいと思います。  \n",
    "10. `b 22`: break point を22行目に置く。\n",
    "11. `c`: continue。break pointを置いたところまで進みます。今回の場合、for文が一周回って22行目に戻ってくることになります。  \n",
    "12. `p goukei`: 1と表示されるはずです。  \n",
    "13. 何度か `c`-->`p goukei` を繰り返せばforループによる `goukei` の変化を見れるはずです。もうお分かりでしょうが `goukei = 0` が for文の中にあるために意図通りの挙動になっていません。  \n",
    "14. `q`: quit。"
   ]
  },
  {
   "cell_type": "code",
   "execution_count": null,
   "id": "bcb2bdc7",
   "metadata": {},
   "outputs": [],
   "source": [
    "arr_saikoro = [1, 2, 3, 4, 5, 6]\n",
    "keisan.heikin(arr_saikoro)"
   ]
  },
  {
   "cell_type": "markdown",
   "id": "bc2f4fb0",
   "metadata": {},
   "source": [
    "<br>  \n",
    " \n",
    "原因がわかったので修正"
   ]
  },
  {
   "cell_type": "code",
   "execution_count": 56,
   "id": "aa8f033a",
   "metadata": {},
   "outputs": [],
   "source": [
    "class keisanki:\n",
    "    def __init__(self):\n",
    "        self.seinou = 'chou kouseinou'\n",
    "    \n",
    "    def show_count(self):\n",
    "        print(self.count)\n",
    "    \n",
    "    def tashizan(self, a, b):\n",
    "        return a + b\n",
    "    \n",
    "    def hikizan(self, a, b):\n",
    "        return a - b\n",
    "    \n",
    "    def kakezan(self, a, b):\n",
    "        return a * b\n",
    "    \n",
    "    def warizan(self, a, b):\n",
    "        return a / b\n",
    "    \n",
    "    def goukei(self, arr):\n",
    "        st()  # <----------- これ！\n",
    "        goukei = 0  # <-------- forループの外に出した。\n",
    "        for num in arr:\n",
    "            goukei = self.tashizan(goukei, num)\n",
    "        return goukei\n",
    "    \n",
    "    def heikin(self, arr):\n",
    "        goukei = self.goukei(arr)\n",
    "        return goukei / len(arr)"
   ]
  },
  {
   "cell_type": "code",
   "execution_count": 57,
   "id": "9210e8e4",
   "metadata": {},
   "outputs": [
    {
     "name": "stdout",
     "output_type": "stream",
     "text": [
      "chou kouseinou\n"
     ]
    }
   ],
   "source": [
    "keisan = keisanki()\n",
    "print(keisan.seinou)"
   ]
  },
  {
   "cell_type": "markdown",
   "id": "871e7b58",
   "metadata": {},
   "source": [
    "<br>   \n",
    "\n",
    "\n",
    "もう一度pdb\n",
    "\n",
    "1. `l`: 23行目がfor文の頭なので、そこにbreak pointを置きましょう。\n",
    "2. `b 23`: 23行目にbreak point。\n",
    "3. 後は、 `c`-->`p goukei` を何度か繰り返して`goukei`の変化を確認します。  \n",
    "4. これで以上です。後は少し他の機能も紹介します。  \n",
    "5. `h`: 使えるコマンド一覧です。(たくさん出てきますがよく使うのは限られています。必要になれば調べるとかで良いと思います。)  \n",
    "6. `cl`: `cl 1` で1番目のbreak pointを削除します(行数ではないことに注意)。 `cl`だとすべてのbreak pointを削除します。"
   ]
  },
  {
   "cell_type": "code",
   "execution_count": null,
   "id": "bc046e97",
   "metadata": {},
   "outputs": [],
   "source": [
    "arr_saikoro = [1, 2, 3, 4, 5, 6]\n",
    "keisan.heikin(arr_saikoro)"
   ]
  },
  {
   "cell_type": "markdown",
   "id": "877e9286",
   "metadata": {},
   "source": [
    "# 　%debug を学ぶ\n",
    "`%debug` はjupyter notebookのマジックコマンドの一つです。  \n",
    "pdbと異なった使い方ができます。  \n",
    "コマンドはpdbとほとんど同じと思ってもらって大丈夫です。  \n",
    "(ちょっと高機能なコマンドがありますが、発展的な内容なので省略します。)"
   ]
  },
  {
   "cell_type": "code",
   "execution_count": 79,
   "id": "1726db8a",
   "metadata": {},
   "outputs": [],
   "source": [
    "def diff_array(arr_x, arr_y):\n",
    "    arr_x = np.asarray(arr_x)\n",
    "    arr_y = np.asarray(arr_y)\n",
    "    return arr_x - arr_y"
   ]
  },
  {
   "cell_type": "markdown",
   "id": "dcf5c5dc",
   "metadata": {},
   "source": [
    "<br>\n",
    "\n",
    "下のセルを実行するとエラーが出ますが意図したとおりですのでそのまま進んでください。"
   ]
  },
  {
   "cell_type": "code",
   "execution_count": null,
   "id": "c73535e0",
   "metadata": {},
   "outputs": [],
   "source": [
    "x = [0, 1, 2, 3, 4, 5, 6, 7]\n",
    "y = [0, 0, 0, 0]\n",
    "diff_array(x, y)"
   ]
  },
  {
   "cell_type": "markdown",
   "id": "601ffc44",
   "metadata": {},
   "source": [
    "<br> \n",
    "\n",
    "shape がおかしいようです。  \n",
    "関数の中に `st()` を入れて再実行することもできますが、`%debug` を使うと再実行の必要はありません。  \n",
    "エラーが出た箇所からデバッガを起動できます！  \n",
    "さっそくやってみましょう。\n",
    "\n",
    "1. `l`: 前後5行を表示。自分で書いたコードではなく、コードから読んだ関数の奥深くを見ています。上にあがりましょう。  \n",
    "2. `u`: 上にあがります(説明むずかしい...やればわかります)。見覚えのあるコードが出てくるまで `u` を何度か実行してください。(今回は4回でした。)\n",
    "3. `p len(arr_x), len(arr_y)`: arr_x, arr_y のlengthを見てみましょう。8と4で大きさが違います。これが原因ですね。\n",
    "4. `arr_x = np.asarray([0, 1, 2, 3])`: arr_xをarr_yの大きさに合わせたら動くはずなので、上書きしてしまいましょう。\n",
    "5. `p len(arr_x), len(arr_y)`: 4, 4 になっているのが確認できます。  \n",
    "6. `n`: エラーが出ていた `return arr_x - arr_y` を実行します。今度は問題なく動くはずです。"
   ]
  },
  {
   "cell_type": "code",
   "execution_count": null,
   "id": "727cb7d3",
   "metadata": {},
   "outputs": [],
   "source": [
    "%debug"
   ]
  },
  {
   "cell_type": "markdown",
   "id": "eb2f3e35",
   "metadata": {},
   "source": [
    "# まとめ\n",
    "Jupyter Notebookで使えるデバッガについて簡単に紹介しました。  \n",
    "僕は以下のような使い分けをしています。  \n",
    "\n",
    "`pdb/ipdb`: 誰かが書いた `クラス` とか `関数` の深いところを動かしながら確認したいとき。  \n",
    "`%debug`: エラー出た。。。なぜ。。。のとき。\n",
    "\n",
    "状況にも寄りますが大体こんな感じです。  \n",
    "printデバッグも頻繁にやりますが、あきらかにデバッガを使ったほうが楽なシーンもあるので使い分けてください。"
   ]
  },
  {
   "cell_type": "code",
   "execution_count": null,
   "id": "44e19adc",
   "metadata": {},
   "outputs": [],
   "source": []
  },
  {
   "cell_type": "code",
   "execution_count": null,
   "id": "d047e559",
   "metadata": {},
   "outputs": [],
   "source": []
  }
 ],
 "metadata": {
  "kernelspec": {
   "display_name": "Python 3",
   "language": "python",
   "name": "python3"
  },
  "language_info": {
   "codemirror_mode": {
    "name": "ipython",
    "version": 3
   },
   "file_extension": ".py",
   "mimetype": "text/x-python",
   "name": "python",
   "nbconvert_exporter": "python",
   "pygments_lexer": "ipython3",
   "version": "3.8.5"
  }
 },
 "nbformat": 4,
 "nbformat_minor": 5
}
