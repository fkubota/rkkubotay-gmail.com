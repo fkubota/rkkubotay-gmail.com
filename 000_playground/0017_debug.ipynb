{
 "cells": [
  {
   "cell_type": "markdown",
   "id": "07a51234",
   "metadata": {},
   "source": [
    "# Overview\n",
    "- 分析コンペLT会#3 の発表資料の一つ\n",
    "- 「Jupyter Notebook」 × 「debug」 がテーマ\n",
    "- このノートブックでは、 `pdb`, `%debug` を学ぶ"
   ]
  },
  {
   "cell_type": "markdown",
   "id": "394cea7e",
   "metadata": {},
   "source": [
    "# Import"
   ]
  },
  {
   "cell_type": "code",
   "execution_count": 61,
   "id": "7ce4c141",
   "metadata": {},
   "outputs": [],
   "source": [
    "# デバッガ\n",
    "from pdb import set_trace as st\n",
    "# from ipdb import set_trace as st  # <--- ipdb がインストールされているならこっちが良いかも。(キレイ)\n",
    "\n",
    "import numpy as np\n",
    "import matplotlib.pyplot as plt"
   ]
  },
  {
   "cell_type": "markdown",
   "id": "ce72026b",
   "metadata": {},
   "source": [
    "# 　pdb を学ぶ\n",
    "`pdb` は Python の公式デバッガで、Pyhton3をインストールすると一緒についてきます。  \n",
    "つまり追加のインストールなどは不要。  \n",
    "さっそく使ってみましょう。  \n",
    "簡単な例として以下に、簡単なclassを作ってみました。  "
   ]
  },
  {
   "cell_type": "code",
   "execution_count": 37,
   "id": "6739b11e",
   "metadata": {},
   "outputs": [],
   "source": [
    "class keisanki:\n",
    "    def __init__(self):\n",
    "        self.seinou = 'chou kouseinou'\n",
    "    \n",
    "    def show_count(self):\n",
    "        print(self.count)\n",
    "    \n",
    "    def tashizan(self, a, b):\n",
    "        return a + b\n",
    "    \n",
    "    def hikizan(self, a, b):\n",
    "        return a - b\n",
    "    \n",
    "    def kakezan(self, a, b):\n",
    "        return a * b\n",
    "    \n",
    "    def warizan(self, a, b):\n",
    "        return a / b\n",
    "    \n",
    "    def goukei(self, arr):\n",
    "        for num in arr:\n",
    "            goukei = 0\n",
    "            goukei = self.tashizan(goukei, num)\n",
    "        return goukei\n",
    "    \n",
    "    def heikin(self, arr):\n",
    "        goukei = self.goukei(arr)\n",
    "        return goukei / len(arr)"
   ]
  },
  {
   "cell_type": "code",
   "execution_count": 38,
   "id": "c67c1f67",
   "metadata": {},
   "outputs": [
    {
     "name": "stdout",
     "output_type": "stream",
     "text": [
      "chou kouseinou\n"
     ]
    }
   ],
   "source": [
    "keisan = keisanki()\n",
    "print(keisan.seinou)"
   ]
  },
  {
   "cell_type": "markdown",
   "id": "d8d82d1f",
   "metadata": {},
   "source": [
    "## サイコロの平均値を求めてみる"
   ]
  },
  {
   "cell_type": "code",
   "execution_count": 39,
   "id": "bd627be9",
   "metadata": {},
   "outputs": [
    {
     "data": {
      "text/plain": [
       "1.0"
      ]
     },
     "execution_count": 39,
     "metadata": {},
     "output_type": "execute_result"
    }
   ],
   "source": [
    "arr_saikoro = [1, 2, 3, 4, 5, 6]\n",
    "keisan.heikin(arr_saikoro)"
   ]
  },
  {
   "cell_type": "markdown",
   "id": "309c7162",
   "metadata": {},
   "source": [
    "---> あれ、おかしい。3.5になるはず。\n",
    "\n",
    "<br>\n",
    "\n",
    "ということでデバッグしてみます。  \n",
    "keisanki class の `heikin` メソッドの中に `goukei` メソッド が使われいます。  \n",
    "これが怪しい気がするので見てみることにします。  \n",
    "(よくある状況ですよね。hoge class の 中の Aメソッドの中のBメソッドの中の...........)  \n",
    "デバッガはNotebook上部に、`from pdb import set_trace as st` とすでに用意してあります。  \n",
    "細かい説明をするより動かした方が早いと思うので早速使ってみます。  \n",
    "下記のように `goukei` の中に `st()` を忍び込ませています。  \n",
    "それでは実行してみましょう。"
   ]
  },
  {
   "cell_type": "code",
   "execution_count": 42,
   "id": "ce981246",
   "metadata": {},
   "outputs": [],
   "source": [
    "class keisanki:\n",
    "    def __init__(self):\n",
    "        self.seinou = 'chou kouseinou'\n",
    "    \n",
    "    def show_count(self):\n",
    "        print(self.count)\n",
    "    \n",
    "    def tashizan(self, a, b):\n",
    "        return a + b\n",
    "    \n",
    "    def hikizan(self, a, b):\n",
    "        return a - b\n",
    "    \n",
    "    def kakezan(self, a, b):\n",
    "        return a * b\n",
    "    \n",
    "    def warizan(self, a, b):\n",
    "        return a / b\n",
    "    \n",
    "    def goukei(self, arr):\n",
    "        st()  # <----------- これ！\n",
    "        for num in arr:\n",
    "            goukei = 0\n",
    "            goukei = self.tashizan(goukei, num)\n",
    "        return goukei\n",
    "    \n",
    "    def heikin(self, arr):\n",
    "        goukei = self.goukei(arr)\n",
    "        return goukei / len(arr)"
   ]
  },
  {
   "cell_type": "code",
   "execution_count": 44,
   "id": "3f94bd5d",
   "metadata": {},
   "outputs": [],
   "source": [
    "keisan = keisanki()\n",
    "print(keisan.seinou)"
   ]
  },
  {
   "cell_type": "markdown",
   "id": "0c331f82",
   "metadata": {},
   "source": [
    "<br>  \n",
    "\n",
    "下のセルを実行するとテキストボックスが出てきます。  \n",
    "以下の順番で操作してください。  \n",
    "(コマンド入力後にEnterを押してください)  \n",
    "(わけわからなくなったら `q` で抜けることができます)\n",
    "\n",
    "1. `l`: 現在位置の前後 5行 が見れます。 (どこにいるかわからなくなったらとりあえずこれ)\n",
    "2. `ll`: 現在位置の関数全体が見えます。\n",
    "3. `p arr`: print(arr) と同じ。arrは意図通り入力されているようです。次はfor文の中に進んでいきましょう。\n",
    "4. `n`: next。 `->` が22行目から23行目に移動しているのがわかります。\n",
    "5. `p goukei`: 23行目に居ますが、実行はされていない状態ですので `NameError: name 'goukei' is not defined` と出力されます。もう一度 `n` をしてみましょう。  \n",
    "6. `n`: next。\n",
    "7. `p goukei`: goukeiが表示されるはずです。  \n",
    "8. `n`: next。 tashizan を実行します。カーソルはfor分の一番上にあるはずです。  \n",
    "9. `p goukei`: 1と表示されました。24行目を実行する度にこの `p goukei` が1+2+3+...と大きくなっていくはずです。`n` を多用してfor文をすすめることもできますが面倒です。そのため、break point を使いたいと思います。  \n",
    "10. `b 22`: break point を22行目に置く。\n",
    "11. `c`: continue。break pointを置いたところまで進みます。今回の場合、for文が一周回って22行目に戻ってくることになります。  \n",
    "12. `p goukei`: 1と表示されるはずです。  \n",
    "13. 何度か `c`-->`p goukei` を繰り返せばforループによる `goukei` の変化を見れるはずです。もうお分かりでしょうが `goukei = 0` が for文の中にあるために意図通りの挙動になっていません。  \n",
    "14. `q`: quit。"
   ]
  },
  {
   "cell_type": "code",
   "execution_count": null,
   "id": "50d99591",
   "metadata": {},
   "outputs": [],
   "source": [
    "arr_saikoro = [1, 2, 3, 4, 5, 6]\n",
    "keisan.heikin(arr_saikoro)"
   ]
  },
  {
   "cell_type": "markdown",
   "id": "013f2364",
   "metadata": {},
   "source": [
    "<br>  \n",
    " \n",
    "原因がわかったので修正"
   ]
  },
  {
   "cell_type": "code",
   "execution_count": 56,
   "id": "88d124fa",
   "metadata": {},
   "outputs": [],
   "source": [
    "class keisanki:\n",
    "    def __init__(self):\n",
    "        self.seinou = 'chou kouseinou'\n",
    "    \n",
    "    def show_count(self):\n",
    "        print(self.count)\n",
    "    \n",
    "    def tashizan(self, a, b):\n",
    "        return a + b\n",
    "    \n",
    "    def hikizan(self, a, b):\n",
    "        return a - b\n",
    "    \n",
    "    def kakezan(self, a, b):\n",
    "        return a * b\n",
    "    \n",
    "    def warizan(self, a, b):\n",
    "        return a / b\n",
    "    \n",
    "    def goukei(self, arr):\n",
    "        st()  # <----------- これ！\n",
    "        goukei = 0  # <-------- forループの外に出した。\n",
    "        for num in arr:\n",
    "            goukei = self.tashizan(goukei, num)\n",
    "        return goukei\n",
    "    \n",
    "    def heikin(self, arr):\n",
    "        goukei = self.goukei(arr)\n",
    "        return goukei / len(arr)"
   ]
  },
  {
   "cell_type": "code",
   "execution_count": 57,
   "id": "15d3c5d9",
   "metadata": {},
   "outputs": [
    {
     "name": "stdout",
     "output_type": "stream",
     "text": [
      "chou kouseinou\n"
     ]
    }
   ],
   "source": [
    "keisan = keisanki()\n",
    "print(keisan.seinou)"
   ]
  },
  {
   "cell_type": "markdown",
   "id": "d61026bb",
   "metadata": {},
   "source": [
    "<br>   \n",
    "\n",
    "\n",
    "もう一度pdb\n",
    "\n",
    "1. `l`: 23行目がfor文の頭なので、そこにbreak pointを置きましょう。\n",
    "2. `b 23`: 23行目にbreak point。\n",
    "3. 後は、 `c`-->`p goukei` を何度か繰り返して`goukei`の変化を確認します。  \n",
    "4. これで以上です。後は少し他の機能も紹介します。  \n",
    "5. `h`: 使えるコマンド一覧です。(たくさん出てきますがよく使うのは限られています。必要になれば調べるとかで良いと思います。)  \n",
    "6. `cl`: `cl 1` で1番目のbreak pointを削除します(行数ではないことに注意)。 `cl`だとすべてのbreak pointを削除します。"
   ]
  },
  {
   "cell_type": "code",
   "execution_count": null,
   "id": "8332ddf8",
   "metadata": {},
   "outputs": [],
   "source": [
    "arr_saikoro = [1, 2, 3, 4, 5, 6]\n",
    "keisan.heikin(arr_saikoro)"
   ]
  },
  {
   "cell_type": "markdown",
   "id": "34a7bce3",
   "metadata": {},
   "source": [
    "# 　%debug を学ぶ\n",
    "`%debug` はjupyter notebookのマジックコマンドの一つです。  \n",
    "pdbと異なった使い方ができます。  \n",
    "コマンドはpdbとほとんど同じと思ってもらって大丈夫です。  \n",
    "(ちょっと高機能なコマンドがありますが、発展的な内容なので省略します。)"
   ]
  },
  {
   "cell_type": "code",
   "execution_count": 91,
   "id": "f42ce375",
   "metadata": {},
   "outputs": [
    {
     "ename": "ValueError",
     "evalue": "operands could not be broadcast together with shapes (8,) (4,) ",
     "output_type": "error",
     "traceback": [
      "\u001b[0;31m---------------------------------------------------------------------------\u001b[0m",
      "\u001b[0;31mValueError\u001b[0m                                Traceback (most recent call last)",
      "\u001b[0;32m<ipython-input-91-8e3f62e42a0a>\u001b[0m in \u001b[0;36m<module>\u001b[0;34m\u001b[0m\n\u001b[1;32m      4\u001b[0m     \u001b[0mnp\u001b[0m\u001b[0;34m.\u001b[0m\u001b[0mmaximum\u001b[0m\u001b[0;34m(\u001b[0m\u001b[0marr_x\u001b[0m\u001b[0;34m,\u001b[0m \u001b[0marr_y\u001b[0m\u001b[0;34m)\u001b[0m\u001b[0;34m\u001b[0m\u001b[0;34m\u001b[0m\u001b[0m\n\u001b[1;32m      5\u001b[0m     \u001b[0;32mreturn\u001b[0m \u001b[0marr_x\u001b[0m \u001b[0;34m-\u001b[0m \u001b[0marr_y\u001b[0m\u001b[0;34m\u001b[0m\u001b[0;34m\u001b[0m\u001b[0m\n\u001b[0;32m----> 6\u001b[0;31m \u001b[0mdiff_array\u001b[0m\u001b[0;34m(\u001b[0m\u001b[0mx\u001b[0m\u001b[0;34m,\u001b[0m \u001b[0my\u001b[0m\u001b[0;34m)\u001b[0m\u001b[0;34m\u001b[0m\u001b[0;34m\u001b[0m\u001b[0m\n\u001b[0m",
      "\u001b[0;32m<ipython-input-91-8e3f62e42a0a>\u001b[0m in \u001b[0;36mdiff_array\u001b[0;34m(arr_x, arr_y)\u001b[0m\n\u001b[1;32m      2\u001b[0m     \u001b[0marr_x\u001b[0m \u001b[0;34m=\u001b[0m \u001b[0mnp\u001b[0m\u001b[0;34m.\u001b[0m\u001b[0masarray\u001b[0m\u001b[0;34m(\u001b[0m\u001b[0marr_x\u001b[0m\u001b[0;34m)\u001b[0m\u001b[0;34m\u001b[0m\u001b[0;34m\u001b[0m\u001b[0m\n\u001b[1;32m      3\u001b[0m     \u001b[0marr_y\u001b[0m \u001b[0;34m=\u001b[0m \u001b[0mnp\u001b[0m\u001b[0;34m.\u001b[0m\u001b[0masarray\u001b[0m\u001b[0;34m(\u001b[0m\u001b[0marr_y\u001b[0m\u001b[0;34m)\u001b[0m\u001b[0;34m\u001b[0m\u001b[0;34m\u001b[0m\u001b[0m\n\u001b[0;32m----> 4\u001b[0;31m     \u001b[0mnp\u001b[0m\u001b[0;34m.\u001b[0m\u001b[0mmaximum\u001b[0m\u001b[0;34m(\u001b[0m\u001b[0marr_x\u001b[0m\u001b[0;34m,\u001b[0m \u001b[0marr_y\u001b[0m\u001b[0;34m)\u001b[0m\u001b[0;34m\u001b[0m\u001b[0;34m\u001b[0m\u001b[0m\n\u001b[0m\u001b[1;32m      5\u001b[0m     \u001b[0;32mreturn\u001b[0m \u001b[0marr_x\u001b[0m \u001b[0;34m-\u001b[0m \u001b[0marr_y\u001b[0m\u001b[0;34m\u001b[0m\u001b[0;34m\u001b[0m\u001b[0m\n\u001b[1;32m      6\u001b[0m \u001b[0mdiff_array\u001b[0m\u001b[0;34m(\u001b[0m\u001b[0mx\u001b[0m\u001b[0;34m,\u001b[0m \u001b[0my\u001b[0m\u001b[0;34m)\u001b[0m\u001b[0;34m\u001b[0m\u001b[0;34m\u001b[0m\u001b[0m\n",
      "\u001b[0;31mValueError\u001b[0m: operands could not be broadcast together with shapes (8,) (4,) "
     ]
    }
   ],
   "source": [
    "def diff_array(arr_x, arr_y):\n",
    "    arr_x = np.asarray(arr_x)\n",
    "    arr_y = np.asarray(arr_y)\n",
    "    np.maximum(arr_x, arr_y)\n",
    "    return arr_x - arr_y\n",
    "diff_array(x, y)"
   ]
  },
  {
   "cell_type": "markdown",
   "id": "e8d630eb",
   "metadata": {},
   "source": [
    "<br>\n",
    "\n",
    "下のセルを実行するとエラーが出ますが意図したとおりですのでそのまま進んでください。"
   ]
  },
  {
   "cell_type": "code",
   "execution_count": 90,
   "id": "750b2536",
   "metadata": {},
   "outputs": [
    {
     "ename": "ValueError",
     "evalue": "operands could not be broadcast together with shapes (8,) (4,) ",
     "output_type": "error",
     "traceback": [
      "\u001b[0;31m---------------------------------------------------------------------------\u001b[0m",
      "\u001b[0;31mValueError\u001b[0m                                Traceback (most recent call last)",
      "\u001b[0;32m<ipython-input-90-0cba0992d71e>\u001b[0m in \u001b[0;36m<module>\u001b[0;34m\u001b[0m\n\u001b[1;32m      1\u001b[0m \u001b[0mx\u001b[0m \u001b[0;34m=\u001b[0m \u001b[0;34m[\u001b[0m\u001b[0;36m0\u001b[0m\u001b[0;34m,\u001b[0m \u001b[0;36m1\u001b[0m\u001b[0;34m,\u001b[0m \u001b[0;36m2\u001b[0m\u001b[0;34m,\u001b[0m \u001b[0;36m3\u001b[0m\u001b[0;34m,\u001b[0m \u001b[0;36m4\u001b[0m\u001b[0;34m,\u001b[0m \u001b[0;36m5\u001b[0m\u001b[0;34m,\u001b[0m \u001b[0;36m6\u001b[0m\u001b[0;34m,\u001b[0m \u001b[0;36m7\u001b[0m\u001b[0;34m]\u001b[0m\u001b[0;34m\u001b[0m\u001b[0;34m\u001b[0m\u001b[0m\n\u001b[1;32m      2\u001b[0m \u001b[0my\u001b[0m \u001b[0;34m=\u001b[0m \u001b[0;34m[\u001b[0m\u001b[0;36m0\u001b[0m\u001b[0;34m,\u001b[0m \u001b[0;36m0\u001b[0m\u001b[0;34m,\u001b[0m \u001b[0;36m0\u001b[0m\u001b[0;34m,\u001b[0m \u001b[0;36m0\u001b[0m\u001b[0;34m]\u001b[0m\u001b[0;34m\u001b[0m\u001b[0;34m\u001b[0m\u001b[0m\n\u001b[0;32m----> 3\u001b[0;31m \u001b[0mdiff_array\u001b[0m\u001b[0;34m(\u001b[0m\u001b[0mx\u001b[0m\u001b[0;34m,\u001b[0m \u001b[0my\u001b[0m\u001b[0;34m)\u001b[0m\u001b[0;34m\u001b[0m\u001b[0;34m\u001b[0m\u001b[0m\n\u001b[0m",
      "\u001b[0;32m<ipython-input-89-68332b29566d>\u001b[0m in \u001b[0;36mdiff_array\u001b[0;34m(arr_x, arr_y)\u001b[0m\n\u001b[1;32m      2\u001b[0m     \u001b[0marr_x\u001b[0m \u001b[0;34m=\u001b[0m \u001b[0mnp\u001b[0m\u001b[0;34m.\u001b[0m\u001b[0masarray\u001b[0m\u001b[0;34m(\u001b[0m\u001b[0marr_x\u001b[0m\u001b[0;34m)\u001b[0m\u001b[0;34m\u001b[0m\u001b[0;34m\u001b[0m\u001b[0m\n\u001b[1;32m      3\u001b[0m     \u001b[0marr_y\u001b[0m \u001b[0;34m=\u001b[0m \u001b[0mnp\u001b[0m\u001b[0;34m.\u001b[0m\u001b[0masarray\u001b[0m\u001b[0;34m(\u001b[0m\u001b[0marr_y\u001b[0m\u001b[0;34m)\u001b[0m\u001b[0;34m\u001b[0m\u001b[0;34m\u001b[0m\u001b[0m\n\u001b[0;32m----> 4\u001b[0;31m     \u001b[0mnp\u001b[0m\u001b[0;34m.\u001b[0m\u001b[0mmaximum\u001b[0m\u001b[0;34m(\u001b[0m\u001b[0marr_x\u001b[0m\u001b[0;34m,\u001b[0m \u001b[0marr_y\u001b[0m\u001b[0;34m)\u001b[0m\u001b[0;34m\u001b[0m\u001b[0;34m\u001b[0m\u001b[0m\n\u001b[0m\u001b[1;32m      5\u001b[0m     \u001b[0;32mreturn\u001b[0m \u001b[0marr_x\u001b[0m \u001b[0;34m-\u001b[0m \u001b[0marr_y\u001b[0m\u001b[0;34m\u001b[0m\u001b[0;34m\u001b[0m\u001b[0m\n",
      "\u001b[0;31mValueError\u001b[0m: operands could not be broadcast together with shapes (8,) (4,) "
     ]
    }
   ],
   "source": [
    "x = [0, 1, 2, 3, 4, 5, 6, 7]\n",
    "y = [0, 0, 0, 0]\n",
    "diff_array(x, y)"
   ]
  },
  {
   "cell_type": "markdown",
   "id": "60fc7e11",
   "metadata": {},
   "source": [
    "<br> \n",
    "\n",
    "shape がおかしいようです。  \n",
    "関数の中に `st()` を入れて再実行することもできますが、`%debug` を使うと再実行の必要はありません。  \n",
    "エラーが出た箇所からデバッガを起動できます！  \n",
    "さっそくやってみましょう。\n",
    "\n",
    "1. `l`: 前後5行を表示。自分で書いたコードではなく、コードから読んだ関数の奥深くを見ています。上にあがりましょう。  \n",
    "2. `u`: 上にあがります(説明むずかしい...やればわかります)。見覚えのあるコードが出てくるまで `u` を何度か実行してください。(今回は4回でした。)\n",
    "3. `p len(arr_x), len(arr_y)`: arr_x, arr_y のlengthを見てみましょう。8と4で大きさが違います。これが原因ですね。\n",
    "4. `arr_x = np.asarray([0, 1, 2, 3])`: arr_xをarr_yの大きさに合わせたら動くはずなので、上書きしてしまいましょう。\n",
    "5. `p len(arr_x), len(arr_y)`: 4, 4 になっているのが確認できます。  \n",
    "6. `n`: エラーが出ていた `return arr_x - arr_y` を実行します。今度は問題なく動くはずです。"
   ]
  },
  {
   "cell_type": "code",
   "execution_count": 86,
   "id": "bf520332",
   "metadata": {},
   "outputs": [
    {
     "name": "stdout",
     "output_type": "stream",
     "text": [
      "> \u001b[0;32m<ipython-input-84-cb05889ab8cc>\u001b[0m(4)\u001b[0;36mdiff_array\u001b[0;34m()\u001b[0m\n",
      "\u001b[0;32m      1 \u001b[0;31m\u001b[0;32mdef\u001b[0m \u001b[0mdiff_array\u001b[0m\u001b[0;34m(\u001b[0m\u001b[0marr_x\u001b[0m\u001b[0;34m,\u001b[0m \u001b[0marr_y\u001b[0m\u001b[0;34m)\u001b[0m\u001b[0;34m:\u001b[0m\u001b[0;34m\u001b[0m\u001b[0;34m\u001b[0m\u001b[0m\n",
      "\u001b[0m\u001b[0;32m      2 \u001b[0;31m    \u001b[0marr_x\u001b[0m \u001b[0;34m=\u001b[0m \u001b[0mnp\u001b[0m\u001b[0;34m.\u001b[0m\u001b[0masarray\u001b[0m\u001b[0;34m(\u001b[0m\u001b[0marr_x\u001b[0m\u001b[0;34m)\u001b[0m\u001b[0;34m\u001b[0m\u001b[0;34m\u001b[0m\u001b[0m\n",
      "\u001b[0m\u001b[0;32m      3 \u001b[0;31m    \u001b[0marr_y\u001b[0m \u001b[0;34m=\u001b[0m \u001b[0mnp\u001b[0m\u001b[0;34m.\u001b[0m\u001b[0masarray\u001b[0m\u001b[0;34m(\u001b[0m\u001b[0marr_y\u001b[0m\u001b[0;34m)\u001b[0m\u001b[0;34m\u001b[0m\u001b[0;34m\u001b[0m\u001b[0m\n",
      "\u001b[0m\u001b[0;32m----> 4 \u001b[0;31m    \u001b[0;32mreturn\u001b[0m \u001b[0marr_x\u001b[0m \u001b[0;34m-\u001b[0m \u001b[0marr_y\u001b[0m\u001b[0;34m\u001b[0m\u001b[0;34m\u001b[0m\u001b[0m\n",
      "\u001b[0m\n"
     ]
    },
    {
     "name": "stdin",
     "output_type": "stream",
     "text": [
      "ipdb>  q\n"
     ]
    }
   ],
   "source": [
    "%debug"
   ]
  },
  {
   "cell_type": "markdown",
   "id": "48256fc6",
   "metadata": {},
   "source": [
    "# まとめ\n",
    "Jupyter Notebookで使えるデバッガについて簡単に紹介しました。  \n",
    "僕は以下のような使い分けをしています。  \n",
    "\n",
    "`pdb/ipdb`: 誰かが書いた `クラス` とか `関数` の深いところを動かしながら確認したいとき。  \n",
    "`%debug`: エラー出た。。。なぜ。。。のとき。\n",
    "\n",
    "状況にも寄りますが大体こんな感じです。  \n",
    "printデバッグも頻繁にやりますが、あきらかにデバッガを使ったほうが楽なシーンもあるので使い分けてください。"
   ]
  },
  {
   "cell_type": "code",
   "execution_count": null,
   "id": "65cb705f",
   "metadata": {},
   "outputs": [],
   "source": []
  },
  {
   "cell_type": "code",
   "execution_count": null,
   "id": "fc3a3ceb",
   "metadata": {},
   "outputs": [],
   "source": []
  }
 ],
 "metadata": {
  "kernelspec": {
   "display_name": "Python 3",
   "language": "python",
   "name": "python3"
  },
  "language_info": {
   "codemirror_mode": {
    "name": "ipython",
    "version": 3
   },
   "file_extension": ".py",
   "mimetype": "text/x-python",
   "name": "python",
   "nbconvert_exporter": "python",
   "pygments_lexer": "ipython3",
   "version": "3.8.5"
  }
 },
 "nbformat": 4,
 "nbformat_minor": 5
}
